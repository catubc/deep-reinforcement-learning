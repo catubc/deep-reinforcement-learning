{
 "cells": [
  {
   "cell_type": "code",
   "execution_count": 1,
   "id": "742a2852-6fc7-44b7-a074-0c0064170c41",
   "metadata": {},
   "outputs": [],
   "source": [
    "%load_ext autoreload\n",
    "%autoreload 2\n",
    "\n",
    "import gym\n",
    "import numpy as np\n",
    "\n",
    "#\n",
    "import matplotlib.pyplot as plt\n",
    "%matplotlib tk\n",
    "\n",
    "from utils import plot_values, Solver\n",
    "\n",
    "#\n",
    "from tqdm import trange\n",
    "\n",
    "#\n",
    "\n"
   ]
  },
  {
   "cell_type": "code",
   "execution_count": 2,
   "id": "a31772ee-0ad2-41a2-a0cb-cf3b1491b4cd",
   "metadata": {},
   "outputs": [],
   "source": [
    "##############################################\n",
    "##############################################\n",
    "##############################################\n",
    "\n",
    "from cliffwalking_custom import CliffWalkingEnv\n",
    "\n",
    "env = CliffWalkingEnv(gym.Env)\n",
    "\n"
   ]
  },
  {
   "cell_type": "code",
   "execution_count": 127,
   "id": "521b9e7d-190a-4d8c-84c8-2f0b98353612",
   "metadata": {},
   "outputs": [
    {
     "name": "stdout",
     "output_type": "stream",
     "text": [
      "Discrete(4)\n",
      "Discrete(48)\n"
     ]
    }
   ],
   "source": [
    "################################################\n",
    "############## VISUALIZE PROBLEM ###############\n",
    "################################################\n",
    "\n",
    "print(env.action_space)\n",
    "print(env.observation_space)\n",
    "\n",
    "# define the optimal state-value function\n",
    "V_opt = np.zeros((4,12))\n",
    "V_opt[0:13][0] = -np.arange(3, 15)[::-1]\n",
    "V_opt[0:13][1] = -np.arange(3, 15)[::-1] + 1\n",
    "V_opt[0:13][2] = -np.arange(3, 15)[::-1] + 2\n",
    "V_opt[3][0] = -13\n",
    "\n",
    "plot_values(V_opt)\n",
    "\n",
    "for k in range(48):\n",
    "    x = k//12\n",
    "    y = k%12\n",
    "    plt.text(y+.15,x+.35,\"(\"+str(k)+\")\")\n"
   ]
  },
  {
   "cell_type": "code",
   "execution_count": 126,
   "id": "c278f7f1-a841-4825-94dd-0475e39de2dc",
   "metadata": {},
   "outputs": [
    {
     "name": "stdout",
     "output_type": "stream",
     "text": [
      "Done in # steps:  38\n",
      " converted in # steps  4\n"
     ]
    }
   ],
   "source": [
    "#############################################\n",
    "#############################################\n",
    "#############################################\n",
    "\n",
    "#\n",
    "dirs = ['up','right','down','left']\n",
    "            \n",
    "#\n",
    "s = Solver(env)\n",
    "\n",
    "# important to find what each state's reward is \n",
    "# for full access to tates\n",
    "#s.find_state_rewards()\n",
    "\n",
    "#\n",
    "s.find_final_states()\n",
    "#print (\"final states: \", s.final_states)\n",
    "#print (\"final rewards: \", s.final_rewards)\n",
    "\n",
    "#\n",
    "s.find_neighbour_states()\n",
    "\n",
    "#\n",
    "s.build_Q_value_propagation()\n",
    "\n",
    "#\n",
    "s.correct_Q_table()\n",
    "\n",
    "#\n",
    "if True:\n",
    "    plt.figure(figsize=(12,5))\n",
    "    for k in range(48):\n",
    "        x = 3-k//12\n",
    "        y = k%12\n",
    "        plt.text(y+.15,x+.35,\n",
    "                 \"(\"+str(k)+ \") \"+\n",
    "                 str(np.nanmax(s.Q[k])),\n",
    "                fontsize=10)\n",
    "    plt.ylim(0,4)\n",
    "    plt.xlim(0,13)\n",
    "    plt.show()"
   ]
  },
  {
   "cell_type": "code",
   "execution_count": null,
   "id": "dc9c8e2b-a1d3-46fe-8dc8-abeab3f3d605",
   "metadata": {},
   "outputs": [],
   "source": []
  },
  {
   "cell_type": "code",
   "execution_count": null,
   "id": "abdc946c-c286-4966-9367-1becc51ffcf2",
   "metadata": {},
   "outputs": [],
   "source": []
  },
  {
   "cell_type": "code",
   "execution_count": null,
   "id": "f6c34394-da6f-4e7d-aa67-42db492df4f2",
   "metadata": {},
   "outputs": [],
   "source": []
  },
  {
   "cell_type": "code",
   "execution_count": null,
   "id": "8be83753-5f16-4015-906e-e008742bbf00",
   "metadata": {},
   "outputs": [],
   "source": []
  },
  {
   "cell_type": "code",
   "execution_count": null,
   "id": "73b48b29-3e93-4584-bf52-886f8def8564",
   "metadata": {},
   "outputs": [],
   "source": []
  },
  {
   "cell_type": "code",
   "execution_count": null,
   "id": "ac30c3d5-6209-45cb-ba17-de57871f93df",
   "metadata": {},
   "outputs": [],
   "source": []
  },
  {
   "cell_type": "code",
   "execution_count": null,
   "id": "ee8ede86-27be-4c7b-bf6b-cf9626c506c9",
   "metadata": {},
   "outputs": [],
   "source": []
  },
  {
   "cell_type": "code",
   "execution_count": null,
   "id": "e7bceab0-9380-4030-9750-95554e358728",
   "metadata": {},
   "outputs": [],
   "source": []
  },
  {
   "cell_type": "code",
   "execution_count": null,
   "id": "8d01878d-855d-441e-ac6b-6fea47254e8b",
   "metadata": {},
   "outputs": [],
   "source": []
  },
  {
   "cell_type": "code",
   "execution_count": null,
   "id": "905e82f8-f091-46dd-9c2f-f2ba535b9c34",
   "metadata": {},
   "outputs": [],
   "source": []
  },
  {
   "cell_type": "code",
   "execution_count": null,
   "id": "68f0c495-c8db-46a8-98fb-76fcf3025a6f",
   "metadata": {},
   "outputs": [],
   "source": []
  },
  {
   "cell_type": "code",
   "execution_count": null,
   "id": "e8751b2b-6f09-4594-82ce-25ab23c84f32",
   "metadata": {},
   "outputs": [],
   "source": []
  },
  {
   "cell_type": "code",
   "execution_count": null,
   "id": "f3cc8c14-4484-4d9b-9abe-d96d1830f202",
   "metadata": {},
   "outputs": [],
   "source": []
  },
  {
   "cell_type": "code",
   "execution_count": null,
   "id": "0317abed-7ea8-4ec8-ab38-e1b25eae7380",
   "metadata": {},
   "outputs": [],
   "source": []
  },
  {
   "cell_type": "code",
   "execution_count": null,
   "id": "aff0464f-e212-4898-99b1-f82475e18259",
   "metadata": {},
   "outputs": [],
   "source": []
  }
 ],
 "metadata": {
  "kernelspec": {
   "display_name": "Python 3 (ipykernel)",
   "language": "python",
   "name": "python3"
  },
  "language_info": {
   "codemirror_mode": {
    "name": "ipython",
    "version": 3
   },
   "file_extension": ".py",
   "mimetype": "text/x-python",
   "name": "python",
   "nbconvert_exporter": "python",
   "pygments_lexer": "ipython3",
   "version": "3.8.13"
  }
 },
 "nbformat": 4,
 "nbformat_minor": 5
}
